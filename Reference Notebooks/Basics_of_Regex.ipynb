{
  "nbformat": 4,
  "nbformat_minor": 0,
  "metadata": {
    "colab": {
      "name": "Basics of Regex.ipynb",
      "provenance": [],
      "collapsed_sections": []
    },
    "kernelspec": {
      "name": "python3",
      "display_name": "Python 3"
    },
    "language_info": {
      "name": "python"
    }
  },
  "cells": [
    {
      "cell_type": "code",
      "metadata": {
        "id": "oJctjlNdXfr4"
      },
      "source": [
        "import re\n",
        "\n",
        "def f(x):\n",
        "    if x:\n",
        "        print(\"YES! We have a match!\")\n",
        "    else:\n",
        "        print(\"No match\")"
      ],
      "execution_count": null,
      "outputs": []
    },
    {
      "cell_type": "code",
      "metadata": {
        "id": "ST622EeThdbe",
        "colab": {
          "base_uri": "https://localhost:8080/"
        },
        "outputId": "e45d004c-278d-4159-9195-39c604b4c798"
      },
      "source": [
        "sentence = 'A'\n",
        "search_1 = re.search('A',sentence)\n",
        "print(search_1)\n",
        "#f(search_1)"
      ],
      "execution_count": null,
      "outputs": [
        {
          "output_type": "stream",
          "text": [
            "<re.Match object; span=(0, 1), match='A'>\n"
          ],
          "name": "stdout"
        }
      ]
    },
    {
      "cell_type": "markdown",
      "metadata": {
        "id": "Q78L3ApKixP-"
      },
      "source": [
        "To search a string from the sentence use direct string or (--string--)"
      ]
    },
    {
      "cell_type": "code",
      "metadata": {
        "colab": {
          "base_uri": "https://localhost:8080/"
        },
        "id": "JfEM3-isXlLB",
        "outputId": "c0b6a8f2-0be3-4d80-b7ba-206c4b2cf22e"
      },
      "source": [
        "sentence_1 = 'The Door is Open'\n",
        "search_1 = re.search('is',sentence_1)\n",
        "f(search_1)\n",
        "\n",
        "search_2 = re.search('(on)',sentence_1)\n",
        "f(search_2)"
      ],
      "execution_count": null,
      "outputs": [
        {
          "output_type": "stream",
          "text": [
            "YES! We have a match!\n",
            "No match\n"
          ],
          "name": "stdout"
        }
      ]
    },
    {
      "cell_type": "markdown",
      "metadata": {
        "id": "KQmhARjQbpor"
      },
      "source": [
        "*What to do if we have to find a string with specific starting and specific ending in the string*\n",
        "\n",
        "\n",
        "*    ( ^ )  ------ Starts with\n",
        "*    ( $ )  ------ Ends with\n",
        "\n",
        "\n",
        " "
      ]
    },
    {
      "cell_type": "code",
      "metadata": {
        "colab": {
          "base_uri": "https://localhost:8080/"
        },
        "id": "zX4LPFHabz9l",
        "outputId": "fc290232-b9f1-44de-d3ae-2487c982e9a1"
      },
      "source": [
        " search_4_s = re.search( '^The' , sentence_1)\n",
        " # Original = '^The'\n",
        " search_4_e = re.search( 'Door$' , sentence_1)\n",
        " # Original = 'Open$'\n",
        " f(search_4_s)\n",
        " f(search_4_e)"
      ],
      "execution_count": null,
      "outputs": [
        {
          "output_type": "stream",
          "text": [
            "YES! We have a match!\n",
            "No match\n"
          ],
          "name": "stdout"
        }
      ]
    },
    {
      "cell_type": "markdown",
      "metadata": {
        "id": "KG5meA-ElBcl"
      },
      "source": [
        "If we are not sure between two strings we use\n",
        "\n",
        "*   ( | ) ----- Either , Or\n",
        "\n"
      ]
    },
    {
      "cell_type": "code",
      "metadata": {
        "colab": {
          "base_uri": "https://localhost:8080/"
        },
        "id": "jFDKEondjvtY",
        "outputId": "ef8978e0-a5c9-4dfa-ad1d-7e8b690001b3"
      },
      "source": [
        "sentence_5 = 'Ironman@marvels.com'\n",
        "sentence_6 = 'Batman@dc.com'\n",
        "sentence_r = 'OkaySiri'\n",
        "s = 'dc|marvels'\n",
        "search_e = re.search(s , sentence_5) #search in both the sentences\n",
        "f(search_e)"
      ],
      "execution_count": null,
      "outputs": [
        {
          "output_type": "stream",
          "text": [
            "YES! We have a match!\n"
          ],
          "name": "stdout"
        }
      ]
    },
    {
      "cell_type": "markdown",
      "metadata": {
        "id": "wdnaVMgmrspr"
      },
      "source": [
        "To search something specific with two words that are way apart from each other\n",
        "*  ( . ) ----  Any character expect new line(\\n) "
      ]
    },
    {
      "cell_type": "code",
      "metadata": {
        "colab": {
          "base_uri": "https://localhost:8080/"
        },
        "id": "CQskZnQErq5N",
        "outputId": "6d02665f-c1f5-426f-f73d-a4a771b7a02b"
      },
      "source": [
        "sentence_7 = 'That hairball is my son and your future king'\n",
        "sentence_7_1 = 'That hairball headne son and your future king'\n",
        "s = 'hairball........son'\n",
        "search_e = re.search(s , sentence_7_1)\n",
        "f(search_e)"
      ],
      "execution_count": null,
      "outputs": [
        {
          "output_type": "stream",
          "text": [
            "YES! We have a match!\n"
          ],
          "name": "stdout"
        }
      ]
    },
    {
      "cell_type": "markdown",
      "metadata": {
        "id": "2dKe8-EJOO13"
      },
      "source": [
        "# Repetition"
      ]
    },
    {
      "cell_type": "markdown",
      "metadata": {
        "id": "iWxruKqjOJ_2"
      },
      "source": [
        "\n",
        "Things get more interesting when you use + and * to specify repetition in the pattern\n",
        "* ( + ) -- 1 or more occurrences of the pattern to its left, e.g. 'i+' = one or more i's\n",
        "*    ( * ) -- 0 or more occurrences of the pattern to its left"
      ]
    },
    {
      "cell_type": "code",
      "metadata": {
        "colab": {
          "base_uri": "https://localhost:8080/"
        },
        "id": "wgyWAioOPN9J",
        "outputId": "f28b9872-46a2-48e2-918e-7f6909297308"
      },
      "source": [
        "email_1 = 'IronMan@marvels.com'\n",
        "email_2 = 'IronMan3000@marvels.com'\n",
        "email_3 = 'NoobMaster69@marvels.com'\n",
        "email_4 = 'virusmail@marvels.com.co.in'\n",
        "pattern_1 = \".*com$\"\n",
        "pattern_2 = '^(Iron)+.*com$'\n",
        "pattern_3 = '^(Iron)*.*com$'\n",
        "search_r = re.search(pattern_1 , email_3)\n",
        "# pattern_1 , email_4,3\n",
        "# pattern_2 , email_1,3\n",
        "# pattern_3 , email_2,3\n",
        "f(search_r)"
      ],
      "execution_count": null,
      "outputs": [
        {
          "output_type": "stream",
          "text": [
            "YES! We have a match!\n"
          ],
          "name": "stdout"
        }
      ]
    },
    {
      "cell_type": "markdown",
      "metadata": {
        "id": "GCOmsnLNNqzI"
      },
      "source": [
        "#Special"
      ]
    },
    {
      "cell_type": "markdown",
      "metadata": {
        "id": "Z2wUjQqhOARt"
      },
      "source": [
        "* ( \\ ) -------- inhibit the \"specialness\" of a character. \n",
        "*  ( \\w ) -----(lowercase w) matches a \"word\" character\n",
        "* (\\D) ------ Everything except [0-9]\n",
        "* (\\d) ------ Only [0-9]"
      ]
    },
    {
      "cell_type": "code",
      "metadata": {
        "colab": {
          "base_uri": "https://localhost:8080/"
        },
        "id": "hCPvkIsoOl6f",
        "outputId": "8cbf99d6-d078-4c24-c169-bfdd72799932"
      },
      "source": [
        "email_5 =\"a@marvels.com\"\n",
        "pattern_4 = '\\w+@\\w+'\n",
        "pattern_5 = '\\w+@\\w+\\.\\w+$'\n",
        "#   \\w+   @  \\w+     \\.  \\w+ $\n",
        "#   iron  @   marvels .  com \n",
        "search_s = re.search(pattern_5 , email_6)\n",
        "f(search_s)"
      ],
      "execution_count": null,
      "outputs": [
        {
          "output_type": "stream",
          "text": [
            "YES! We have a match!\n"
          ],
          "name": "stdout"
        }
      ]
    },
    {
      "cell_type": "markdown",
      "metadata": {
        "id": "jK3IP7ENo5uk"
      },
      "source": [
        "# Square brackets"
      ]
    },
    {
      "cell_type": "markdown",
      "metadata": {
        "id": "nQgbCa_mpAKP"
      },
      "source": [
        "A set is a set of characters inside a pair of square brackets []\n",
        "* [A-Z] ---- All from A to Z\n",
        "* [ABC] ---- A or B or C\n",
        "* [^ABC] ----- Not (A or B or C)"
      ]
    },
    {
      "cell_type": "code",
      "metadata": {
        "colab": {
          "base_uri": "https://localhost:8080/"
        },
        "id": "rsh3RuoIo4xT",
        "outputId": "b7f1cf4a-8e60-4b31-e170-f9611de58481"
      },
      "source": [
        "email_6 = 'HulkSmash@marvels.com'\n",
        "email_7 = 'WonderWoman@dc.com'\n",
        "pattern_7 = '^[INH]'\n",
        "pattern_8 = '^[^WS]'\n",
        "search_6 = re.search(pattern_8 , email_6)\n",
        "f(search_6)"
      ],
      "execution_count": null,
      "outputs": [
        {
          "output_type": "stream",
          "text": [
            "YES! We have a match!\n"
          ],
          "name": "stdout"
        }
      ]
    },
    {
      "cell_type": "markdown",
      "metadata": {
        "id": "-ve78HzS3azI"
      },
      "source": [
        "# Braces"
      ]
    },
    {
      "cell_type": "markdown",
      "metadata": {
        "id": "pmZicfMe3doL"
      },
      "source": [
        "{} is used for specific number of repeat"
      ]
    },
    {
      "cell_type": "code",
      "metadata": {
        "id": "reQu237k3aDI"
      },
      "source": [
        ""
      ],
      "execution_count": null,
      "outputs": []
    },
    {
      "cell_type": "markdown",
      "metadata": {
        "id": "ONT2lCAmjTc1"
      },
      "source": [
        "## Roughwork"
      ]
    },
    {
      "cell_type": "code",
      "metadata": {
        "colab": {
          "base_uri": "https://localhost:8080/"
        },
        "id": "Iv06LNs5i2Gu",
        "outputId": "8fb49bae-08e2-466b-ed2b-136ff5d511ca"
      },
      "source": [
        "sentence_p = '3'\n",
        "pattern_r = '\\d'\n",
        "search_5 = re.search( pattern_r , sentence_p)\n",
        "f(search_5)"
      ],
      "execution_count": null,
      "outputs": [
        {
          "output_type": "stream",
          "text": [
            "YES! We have a match!\n"
          ],
          "name": "stdout"
        }
      ]
    },
    {
      "cell_type": "code",
      "metadata": {
        "colab": {
          "base_uri": "https://localhost:8080/"
        },
        "id": "hRF2i5ZNh8MQ",
        "outputId": "89884980-35f9-40a5-d44d-5275a7b519ef"
      },
      "source": [
        "sentence_r = 'AAAABBBBBCCCC'\n",
        "search_5 = re.search( '[C]$' , sentence_r)\n",
        "f(search_5)"
      ],
      "execution_count": null,
      "outputs": [
        {
          "output_type": "stream",
          "text": [
            "YES! We have a match!\n"
          ],
          "name": "stdout"
        }
      ]
    }
  ]
}